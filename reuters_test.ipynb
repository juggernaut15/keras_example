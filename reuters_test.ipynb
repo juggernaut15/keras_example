{
 "cells": [
  {
   "cell_type": "markdown",
   "metadata": {},
   "source": [
    "reuter dataset: 뉴스 기사, 토픽\n",
    "\n",
    "data\n",
    "- 정수 리스트 (단어 인덱스)\n",
    "- train data : 8982개\n",
    "- test data : 2246개\n",
    "\n",
    "label\n",
    "- 토픽의 인덱스\n",
    "- 0~45 사이의정수\n"
   ]
  },
  {
   "cell_type": "code",
   "execution_count": 1,
   "metadata": {},
   "outputs": [
    {
     "name": "stderr",
     "output_type": "stream",
     "text": [
      "Using TensorFlow backend.\n"
     ]
    }
   ],
   "source": [
    "from keras.datasets import reuters\n",
    "import numpy as np"
   ]
  },
  {
   "cell_type": "code",
   "execution_count": 2,
   "metadata": {},
   "outputs": [],
   "source": [
    "np_load_old = np.load\n",
    "np.load = lambda *a,**k: np_load_old(*a, allow_pickle=True, **k)\n",
    "\n",
    "(train_data, train_labels), (test_data, test_labels) = reuters.load_data(num_words = 10000)\n",
    "\n",
    "np.load = np_load_old"
   ]
  },
  {
   "cell_type": "code",
   "execution_count": 3,
   "metadata": {},
   "outputs": [],
   "source": [
    "word_index = reuters.get_word_index()\n",
    "revers_word_index = dict([(value, key) for (key, value) in word_index.items()])\n",
    "decoded_newswire = ' '.join([revers_word_index.get(i-3, '?') for i in train_data[0]])"
   ]
  },
  {
   "cell_type": "code",
   "execution_count": 4,
   "metadata": {},
   "outputs": [
    {
     "data": {
      "text/plain": [
       "'? ? ? said as a result of its december acquisition of space co it expects earnings per share in 1987 of 1 15 to 1 30 dlrs per share up from 70 cts in 1986 the company said pretax net should rise to nine to 10 mln dlrs from six mln dlrs in 1986 and rental operation revenues to 19 to 22 mln dlrs from 12 5 mln dlrs it said cash flow per share this year should be 2 50 to three dlrs reuter 3'"
      ]
     },
     "execution_count": 4,
     "metadata": {},
     "output_type": "execute_result"
    }
   ],
   "source": [
    "decoded_newswire"
   ]
  },
  {
   "cell_type": "markdown",
   "metadata": {},
   "source": [
    "[ 데이터를 벡터로 변환 ]"
   ]
  },
  {
   "cell_type": "code",
   "execution_count": 5,
   "metadata": {},
   "outputs": [],
   "source": [
    "def vectorize_sequences(sequences, dimension=10000):\n",
    "    results = np.zeros((len(sequences), dimension))\n",
    "    for i, sequence in enumerate(sequences):\n",
    "        results[i, sequence] = 1.\n",
    "    return results"
   ]
  },
  {
   "cell_type": "code",
   "execution_count": 6,
   "metadata": {},
   "outputs": [],
   "source": [
    "x_train = vectorize_sequences(train_data)\n",
    "x_test = vectorize_sequences(test_data)"
   ]
  },
  {
   "cell_type": "code",
   "execution_count": 7,
   "metadata": {},
   "outputs": [],
   "source": [
    "def to_one_hot(labels, dimension=46):\n",
    "    results = np.zeros((len(labels), dimension))\n",
    "    for i, label in enumerate(labels):\n",
    "        results[i, label] = 1.\n",
    "    return results"
   ]
  },
  {
   "cell_type": "code",
   "execution_count": 8,
   "metadata": {},
   "outputs": [],
   "source": [
    "one_hot_train_labels = to_one_hot(train_labels)\n",
    "one_hot_test_labels = to_one_hot(test_labels)"
   ]
  },
  {
   "cell_type": "markdown",
   "metadata": {},
   "source": [
    "[ 모델 정의 ]\n",
    "- 64개의 유닛\n",
    "- 3개의 층\n",
    "- 손실함수 : categorical_crossentropy => 두 확률 분포 사이의 거리를 측정"
   ]
  },
  {
   "cell_type": "code",
   "execution_count": 9,
   "metadata": {},
   "outputs": [],
   "source": [
    "from keras import models\n",
    "from keras import layers"
   ]
  },
  {
   "cell_type": "code",
   "execution_count": 10,
   "metadata": {},
   "outputs": [
    {
     "name": "stdout",
     "output_type": "stream",
     "text": [
      "WARNING:tensorflow:From C:\\Users\\82102\\Anaconda3\\envs\\bob\\lib\\site-packages\\tensorflow\\python\\framework\\op_def_library.py:263: colocate_with (from tensorflow.python.framework.ops) is deprecated and will be removed in a future version.\n",
      "Instructions for updating:\n",
      "Colocations handled automatically by placer.\n"
     ]
    }
   ],
   "source": [
    "model = models.Sequential()\n",
    "model.add(layers.Dense(64, activation='relu', input_shape=(10000,)))\n",
    "model.add(layers.Dense(64, activation='relu'))\n",
    "model.add(layers.Dense(46, activation='softmax'))"
   ]
  },
  {
   "cell_type": "code",
   "execution_count": 11,
   "metadata": {},
   "outputs": [],
   "source": [
    "model.compile(optimizer='rmsprop',\n",
    "             loss = 'categorical_crossentropy',\n",
    "             metrics = ['accuracy'])"
   ]
  },
  {
   "cell_type": "markdown",
   "metadata": {},
   "source": [
    "[ 훈련 ]\n",
    "- 훈련 데이터에서 1000개를 검증 세트로 사용\n",
    "- 에포크 : 20\n",
    "- 배치 사이즈 : 512"
   ]
  },
  {
   "cell_type": "code",
   "execution_count": 12,
   "metadata": {},
   "outputs": [],
   "source": [
    "x_val = x_train[:1000]\n",
    "partial_x_train = x_train[1000:]\n",
    "\n",
    "y_val = one_hot_train_labels[:1000]\n",
    "partial_y_train = one_hot_train_labels[1000:]"
   ]
  },
  {
   "cell_type": "code",
   "execution_count": 13,
   "metadata": {},
   "outputs": [
    {
     "name": "stdout",
     "output_type": "stream",
     "text": [
      "WARNING:tensorflow:From C:\\Users\\82102\\Anaconda3\\envs\\bob\\lib\\site-packages\\tensorflow\\python\\ops\\math_ops.py:3066: to_int32 (from tensorflow.python.ops.math_ops) is deprecated and will be removed in a future version.\n",
      "Instructions for updating:\n",
      "Use tf.cast instead.\n",
      "Train on 7982 samples, validate on 1000 samples\n",
      "Epoch 1/20\n",
      "7982/7982 [==============================] - 5s 569us/step - loss: 2.5334 - acc: 0.4946 - val_loss: 1.7233 - val_acc: 0.6100\n",
      "Epoch 2/20\n",
      "7982/7982 [==============================] - 2s 201us/step - loss: 1.4487 - acc: 0.6877 - val_loss: 1.3465 - val_acc: 0.7080\n",
      "Epoch 3/20\n",
      "7982/7982 [==============================] - 1s 184us/step - loss: 1.0972 - acc: 0.7647 - val_loss: 1.1704 - val_acc: 0.7420\n",
      "Epoch 4/20\n",
      "7982/7982 [==============================] - 1s 183us/step - loss: 0.8711 - acc: 0.8161 - val_loss: 1.0810 - val_acc: 0.7570\n",
      "Epoch 5/20\n",
      "7982/7982 [==============================] - 1s 183us/step - loss: 0.7042 - acc: 0.8477 - val_loss: 0.9839 - val_acc: 0.7810\n",
      "Epoch 6/20\n",
      "7982/7982 [==============================] - 1s 176us/step - loss: 0.5674 - acc: 0.8789 - val_loss: 0.9410 - val_acc: 0.8040\n",
      "Epoch 7/20\n",
      "7982/7982 [==============================] - 1s 180us/step - loss: 0.4604 - acc: 0.9038 - val_loss: 0.9093 - val_acc: 0.8010\n",
      "Epoch 8/20\n",
      "7982/7982 [==============================] - 1s 184us/step - loss: 0.3709 - acc: 0.9227 - val_loss: 0.9367 - val_acc: 0.7910\n",
      "Epoch 9/20\n",
      "7982/7982 [==============================] - 1s 180us/step - loss: 0.3042 - acc: 0.9311 - val_loss: 0.8924 - val_acc: 0.8070\n",
      "Epoch 10/20\n",
      "7982/7982 [==============================] - 2s 193us/step - loss: 0.2543 - acc: 0.9415 - val_loss: 0.9062 - val_acc: 0.8110\n",
      "Epoch 11/20\n",
      "7982/7982 [==============================] - 1s 181us/step - loss: 0.2190 - acc: 0.9475 - val_loss: 0.9175 - val_acc: 0.8120\n",
      "Epoch 12/20\n",
      "7982/7982 [==============================] - 1s 181us/step - loss: 0.1874 - acc: 0.9509 - val_loss: 0.9040 - val_acc: 0.8140\n",
      "Epoch 13/20\n",
      "7982/7982 [==============================] - 1s 187us/step - loss: 0.1701 - acc: 0.9529 - val_loss: 0.9365 - val_acc: 0.8080\n",
      "Epoch 14/20\n",
      "7982/7982 [==============================] - 2s 193us/step - loss: 0.1534 - acc: 0.9553 - val_loss: 0.9643 - val_acc: 0.8070\n",
      "Epoch 15/20\n",
      "7982/7982 [==============================] - 1s 178us/step - loss: 0.1387 - acc: 0.9563 - val_loss: 0.9699 - val_acc: 0.8180\n",
      "Epoch 16/20\n",
      "7982/7982 [==============================] - 1s 179us/step - loss: 0.1312 - acc: 0.9560 - val_loss: 1.0266 - val_acc: 0.8040\n",
      "Epoch 17/20\n",
      "7982/7982 [==============================] - 1s 183us/step - loss: 0.1218 - acc: 0.9578 - val_loss: 1.0233 - val_acc: 0.8000\n",
      "Epoch 18/20\n",
      "7982/7982 [==============================] - 1s 178us/step - loss: 0.1195 - acc: 0.9582 - val_loss: 1.0433 - val_acc: 0.8060\n",
      "Epoch 19/20\n",
      "7982/7982 [==============================] - 1s 180us/step - loss: 0.1135 - acc: 0.9587 - val_loss: 1.0971 - val_acc: 0.7960\n",
      "Epoch 20/20\n",
      "7982/7982 [==============================] - 1s 182us/step - loss: 0.1105 - acc: 0.9599 - val_loss: 1.0696 - val_acc: 0.8010\n"
     ]
    }
   ],
   "source": [
    "history = model.fit(partial_x_train,\n",
    "                   partial_y_train,\n",
    "                   epochs=20,\n",
    "                   batch_size=512,\n",
    "                   validation_data=(x_val, y_val))"
   ]
  },
  {
   "cell_type": "markdown",
   "metadata": {},
   "source": [
    "[ 훈련, 손실 그래프 ]"
   ]
  },
  {
   "cell_type": "code",
   "execution_count": 14,
   "metadata": {},
   "outputs": [],
   "source": [
    "import matplotlib.pyplot as plt"
   ]
  },
  {
   "cell_type": "code",
   "execution_count": 15,
   "metadata": {},
   "outputs": [],
   "source": [
    "loss = history.history['loss']\n",
    "val_loss = history.history['val_loss']\n",
    "epochs = range(1, len(loss) + 1)"
   ]
  },
  {
   "cell_type": "code",
   "execution_count": 16,
   "metadata": {},
   "outputs": [
    {
     "data": {
      "image/png": "[encoded data removed]",
      "text/plain": [
       "<Figure size 432x288 with 1 Axes>"
      ]
     },
     "metadata": {
      "needs_background": "light"
     },
     "output_type": "display_data"
    }
   ],
   "source": [
    "plt.plot(epochs, loss, 'bo', label='Training loss')\n",
    "plt.plot(epochs, val_loss, 'b', label = 'Validation loss')\n",
    "plt.title('Trainig and validation loss')\n",
    "plt.xlabel('Epochs')\n",
    "plt.ylabel('Loss')\n",
    "plt.legend()\n",
    "\n",
    "plt.show()"
   ]
  },
  {
   "cell_type": "code",
   "execution_count": 17,
   "metadata": {},
   "outputs": [
    {
     "data": {
      "image/png": "[encoded data removed]",
      "text/plain": [
       "<Figure size 432x288 with 1 Axes>"
      ]
     },
     "metadata": {
      "needs_background": "light"
     },
     "output_type": "display_data"
    }
   ],
   "source": [
    "plt.clf()\n",
    "\n",
    "acc = history.history['acc']\n",
    "val_acc = history.history['val_acc']\n",
    "plt.plot(epochs, acc, 'bo', label= 'Training acc')\n",
    "plt.plot(epochs, val_acc, 'b', label = 'Validation acc')\n",
    "plt.title('Trainig and validation accuracy')\n",
    "plt.xlabel('Epochs')\n",
    "plt.ylabel('Accuracy')\n",
    "plt.legend()\n",
    "\n",
    "plt.show()"
   ]
  },
  {
   "cell_type": "markdown",
   "metadata": {},
   "source": [
    "9번째 epoch부터 overfitting =>  epochs을 9로 변경하고 다시 학습"
   ]
  },
  {
   "cell_type": "code",
   "execution_count": 18,
   "metadata": {},
   "outputs": [
    {
     "name": "stdout",
     "output_type": "stream",
     "text": [
      "Train on 7982 samples, validate on 1000 samples\n",
      "Epoch 1/9\n",
      "7982/7982 [==============================] - 1s 167us/step - loss: 0.1059 - acc: 0.9570 - val_loss: 1.1044 - val_acc: 0.7990\n",
      "Epoch 2/9\n",
      "7982/7982 [==============================] - 1s 183us/step - loss: 0.1018 - acc: 0.9580 - val_loss: 1.1117 - val_acc: 0.8060\n",
      "Epoch 3/9\n",
      "7982/7982 [==============================] - 1s 182us/step - loss: 0.1021 - acc: 0.9592 - val_loss: 1.0954 - val_acc: 0.7950\n",
      "Epoch 4/9\n",
      "7982/7982 [==============================] - 1s 177us/step - loss: 0.1028 - acc: 0.9580 - val_loss: 1.1219 - val_acc: 0.7990\n",
      "Epoch 5/9\n",
      "7982/7982 [==============================] - 1s 173us/step - loss: 0.0974 - acc: 0.9595 - val_loss: 1.1495 - val_acc: 0.8040\n",
      "Epoch 6/9\n",
      "7982/7982 [==============================] - 1s 187us/step - loss: 0.0987 - acc: 0.9564 - val_loss: 1.2267 - val_acc: 0.7880\n",
      "Epoch 7/9\n",
      "7982/7982 [==============================] - 1s 175us/step - loss: 0.0958 - acc: 0.9577 - val_loss: 1.1787 - val_acc: 0.7940\n",
      "Epoch 8/9\n",
      "7982/7982 [==============================] - 1s 183us/step - loss: 0.0920 - acc: 0.9585 - val_loss: 1.2368 - val_acc: 0.7820\n",
      "Epoch 9/9\n",
      "7982/7982 [==============================] - 1s 181us/step - loss: 0.0950 - acc: 0.9584 - val_loss: 1.1825 - val_acc: 0.7940\n"
     ]
    },
    {
     "data": {
      "text/plain": [
       "<keras.callbacks.History at 0x1c75c6abf28>"
      ]
     },
     "execution_count": 18,
     "metadata": {},
     "output_type": "execute_result"
    }
   ],
   "source": [
    "model.fit(partial_x_train,\n",
    "                   partial_y_train,\n",
    "                   epochs=9,\n",
    "                   batch_size=512,\n",
    "                   validation_data=(x_val, y_val))"
   ]
  },
  {
   "cell_type": "code",
   "execution_count": 19,
   "metadata": {},
   "outputs": [
    {
     "name": "stdout",
     "output_type": "stream",
     "text": [
      "2246/2246 [==============================] - 0s 192us/step\n"
     ]
    },
    {
     "data": {
      "text/plain": [
       "[1.354632099929497, 0.7809439003202179]"
      ]
     },
     "execution_count": 19,
     "metadata": {},
     "output_type": "execute_result"
    }
   ],
   "source": [
    "results = model.evaluate(x_test, one_hot_test_labels)\n",
    "results"
   ]
  },
  {
   "cell_type": "markdown",
   "metadata": {},
   "source": [
    "[ 새로운 데이터 예측하기 ]"
   ]
  },
  {
   "cell_type": "code",
   "execution_count": 20,
   "metadata": {},
   "outputs": [
    {
     "data": {
      "text/plain": [
       "array([[1.2250192e-06, 1.1256770e-06, 1.5355169e-09, ..., 1.8270084e-09,\n",
       "        1.1405280e-11, 8.8289355e-11],\n",
       "       [3.0145969e-04, 7.1963216e-03, 3.2358589e-08, ..., 1.3921841e-09,\n",
       "        3.6752645e-12, 3.0870131e-06],\n",
       "       [1.1709489e-02, 9.0621877e-01, 7.2777490e-05, ..., 2.3470377e-06,\n",
       "        1.5179555e-07, 6.3005323e-06],\n",
       "       ...,\n",
       "       [7.4565662e-08, 5.4473065e-07, 5.4524878e-09, ..., 1.7609726e-10,\n",
       "        2.0622047e-10, 2.5337782e-11],\n",
       "       [2.9005599e-03, 2.1916336e-01, 5.2920179e-05, ..., 2.8430299e-05,\n",
       "        5.1009668e-08, 1.6059258e-07],\n",
       "       [1.9403038e-05, 7.8212756e-01, 5.9121498e-03, ..., 2.5041208e-08,\n",
       "        1.1003539e-12, 9.2611614e-08]], dtype=float32)"
      ]
     },
     "execution_count": 20,
     "metadata": {},
     "output_type": "execute_result"
    }
   ],
   "source": [
    "predictions = model.predict(x_test)\n",
    "predictions"
   ]
  },
  {
   "cell_type": "markdown",
   "metadata": {},
   "source": [
    "[ 충분히 큰 중간층을 두어야 하는 이유 ]\n",
    "- 마지막 출력인 46차원보다 중간층 히든 유닛이 더 많아야 한다.\n",
    "- 병목 => accuracy가 낮아진다"
   ]
  },
  {
   "cell_type": "code",
   "execution_count": 21,
   "metadata": {},
   "outputs": [
    {
     "name": "stdout",
     "output_type": "stream",
     "text": [
      "Train on 7982 samples, validate on 1000 samples\n",
      "Epoch 1/20\n",
      "7982/7982 [==============================] - 2s 291us/step - loss: 3.1603 - acc: 0.2415 - val_loss: 2.6036 - val_acc: 0.2750\n",
      "Epoch 2/20\n",
      "7982/7982 [==============================] - 2s 235us/step - loss: 2.0490 - acc: 0.5452 - val_loss: 1.6985 - val_acc: 0.5850\n",
      "Epoch 3/20\n",
      "7982/7982 [==============================] - 2s 235us/step - loss: 1.4995 - acc: 0.6225 - val_loss: 1.5108 - val_acc: 0.6400\n",
      "Epoch 4/20\n",
      "7982/7982 [==============================] - 2s 228us/step - loss: 1.2865 - acc: 0.6923 - val_loss: 1.4134 - val_acc: 0.6750\n",
      "Epoch 5/20\n",
      "7982/7982 [==============================] - 2s 242us/step - loss: 1.1441 - acc: 0.7161 - val_loss: 1.3636 - val_acc: 0.6840\n",
      "Epoch 6/20\n",
      "7982/7982 [==============================] - 2s 244us/step - loss: 1.0387 - acc: 0.7308 - val_loss: 1.3469 - val_acc: 0.6900\n",
      "Epoch 7/20\n",
      "7982/7982 [==============================] - 2s 233us/step - loss: 0.9561 - acc: 0.7422 - val_loss: 1.3384 - val_acc: 0.6990\n",
      "Epoch 8/20\n",
      "7982/7982 [==============================] - 2s 232us/step - loss: 0.8863 - acc: 0.7538 - val_loss: 1.3362 - val_acc: 0.7020\n",
      "Epoch 9/20\n",
      "7982/7982 [==============================] - 2s 247us/step - loss: 0.8218 - acc: 0.7721 - val_loss: 1.3565 - val_acc: 0.7120\n",
      "Epoch 10/20\n",
      "7982/7982 [==============================] - 2s 235us/step - loss: 0.7598 - acc: 0.7925 - val_loss: 1.3674 - val_acc: 0.7160\n",
      "Epoch 11/20\n",
      "7982/7982 [==============================] - 2s 244us/step - loss: 0.7071 - acc: 0.8086 - val_loss: 1.3954 - val_acc: 0.7130\n",
      "Epoch 12/20\n",
      "7982/7982 [==============================] - 2s 248us/step - loss: 0.6622 - acc: 0.8188 - val_loss: 1.3979 - val_acc: 0.7260\n",
      "Epoch 13/20\n",
      "7982/7982 [==============================] - 2s 254us/step - loss: 0.6201 - acc: 0.8326 - val_loss: 1.4508 - val_acc: 0.7110\n",
      "Epoch 14/20\n",
      "7982/7982 [==============================] - 2s 259us/step - loss: 0.5847 - acc: 0.8368 - val_loss: 1.4712 - val_acc: 0.7120\n",
      "Epoch 15/20\n",
      "7982/7982 [==============================] - 2s 248us/step - loss: 0.5516 - acc: 0.8468 - val_loss: 1.5142 - val_acc: 0.7150\n",
      "Epoch 16/20\n",
      "7982/7982 [==============================] - 2s 246us/step - loss: 0.5210 - acc: 0.8562 - val_loss: 1.5571 - val_acc: 0.7120\n",
      "Epoch 17/20\n",
      "7982/7982 [==============================] - 2s 249us/step - loss: 0.4945 - acc: 0.8636 - val_loss: 1.5839 - val_acc: 0.7200\n",
      "Epoch 18/20\n",
      "7982/7982 [==============================] - 2s 255us/step - loss: 0.4694 - acc: 0.8782 - val_loss: 1.6355 - val_acc: 0.7160\n",
      "Epoch 19/20\n",
      "7982/7982 [==============================] - 2s 267us/step - loss: 0.4453 - acc: 0.8839 - val_loss: 1.6756 - val_acc: 0.7140\n",
      "Epoch 20/20\n",
      "7982/7982 [==============================] - 2s 271us/step - loss: 0.4281 - acc: 0.8893 - val_loss: 1.7345 - val_acc: 0.7140\n",
      "2246/2246 [==============================] - 0s 195us/step\n"
     ]
    },
    {
     "data": {
      "text/plain": [
       "[1.9708690566880727, 0.6869991095280499]"
      ]
     },
     "execution_count": 21,
     "metadata": {},
     "output_type": "execute_result"
    }
   ],
   "source": [
    "model = models.Sequential()\n",
    "model.add(layers.Dense(64, activation='relu', input_shape=(10000,)))\n",
    "model.add(layers.Dense(4, activation='relu'))\n",
    "model.add(layers.Dense(46, activation='softmax'))\n",
    "\n",
    "model.compile(optimizer='rmsprop',\n",
    "             loss = 'categorical_crossentropy',\n",
    "             metrics = ['accuracy'])\n",
    "\n",
    "model.fit(partial_x_train,\n",
    "                   partial_y_train,\n",
    "                   epochs = 20,\n",
    "                   batch_size = 128,\n",
    "                   validation_data = (x_val, y_val))\n",
    "results = model.evaluate(x_test, one_hot_test_labels)\n",
    "results"
   ]
  },
  {
   "cell_type": "code",
   "execution_count": null,
   "metadata": {},
   "outputs": [],
   "source": []
  }
 ],
 "metadata": {
  "kernelspec": {
   "display_name": "Python 3",
   "language": "python",
   "name": "python3"
  },
  "language_info": {
   "codemirror_mode": {
    "name": "ipython",
    "version": 3
   },
   "file_extension": ".py",
   "mimetype": "text/x-python",
   "name": "python",
   "nbconvert_exporter": "python",
   "pygments_lexer": "ipython3",
   "version": "3.7.3"
  }
 },
 "nbformat": 4,
 "nbformat_minor": 2
}
