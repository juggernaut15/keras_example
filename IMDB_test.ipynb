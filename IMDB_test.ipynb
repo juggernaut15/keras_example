{
 "cells": [
  {
   "cell_type": "markdown",
   "metadata": {},
   "source": [
    "IMDB\n",
    "- 영화 데이터 베이스\n",
    "- 훈련 데이터 2만 5천, 테스트 데이터 2만 5천\n",
    "- 50% 부정, 50% 긍정\n",
    "\n",
    "Data\n",
    "- 리뷰의 목록, 단어 인덱스의 리스트\n",
    "\n",
    "Label\n",
    "- 0 : 부정, 1: 긍정"
   ]
  },
  {
   "cell_type": "code",
   "execution_count": 1,
   "metadata": {},
   "outputs": [
    {
     "name": "stderr",
     "output_type": "stream",
     "text": [
      "Using TensorFlow backend.\n"
     ]
    }
   ],
   "source": [
    "from keras.datasets import imdb\n",
    "import numpy as np"
   ]
  },
  {
   "cell_type": "markdown",
   "metadata": {},
   "source": [
    "영화 리뷰 데이터 가져오기\n",
    "훈련 데이터와 테스트 데이터를 50:50 비율로 구분\n",
    "\n",
    "num_words => 데이터에서 등장 빈도 순위로 몇 번째에 해당하는 단어까지 갖고 올 것인지 조절, 단어의 개수\n",
    "\n",
    "넘파이 1.16.3 버전에서 allow_pickle 매개변수 기본값이 true에서 false로 바뀜\n",
    "\n",
    "=> imdb.load_data() 오류 발생\n",
    "=> np.load의 dafault parameter값을 변경해야한다.\n",
    "\n",
    "( 참고 )\n",
    "\n",
    "https://stackoverflow.com/questions/55890813/how-to-fix-object-arrays-cannot-be-loaded-when-allow-pickle-false-for-imdb-loa\n",
    "https://tensorflow.blog/2019/04/29/keras-datasets-imdb-load_data-%EC%98%A4%EB%A5%98/"
   ]
  },
  {
   "cell_type": "code",
   "execution_count": 2,
   "metadata": {},
   "outputs": [],
   "source": [
    "np_load_old = np.load\n",
    "np.load = lambda *a,**k: np_load_old(*a, allow_pickle=True, **k)\n",
    "\n",
    "(train_data, train_labels), (test_data, test_labels) = imdb.load_data(num_words=10000)\n",
    "\n",
    "np.load = np_load_old\n"
   ]
  },
  {
   "cell_type": "markdown",
   "metadata": {},
   "source": [
    "data를 원래 영어단어, 리뷰로 바꾸기"
   ]
  },
  {
   "cell_type": "code",
   "execution_count": 3,
   "metadata": {},
   "outputs": [
    {
     "data": {
      "text/plain": [
       "\"? this film was just brilliant casting location scenery story direction everyone's really suited the part they played and you could just imagine being there robert ? is an amazing actor and now the same being director ? father came from the same scottish island as myself so i loved the fact there was a real connection with this film the witty remarks throughout the film were great it was just brilliant so much that i bought the film as soon as it was released for ? and would recommend it to everyone to watch and the fly fishing was amazing really cried at the end it was so sad and you know what they say if you cry at a film it must have been good and this definitely was also ? to the two little boy's that played the ? of norman and paul they were just brilliant children are often left out of the ? list i think because the stars that play them all grown up are such a big profile for the whole film but these children are amazing and should be praised for what they have done don't you think the whole story was so lovely because it was true and was someone's life after all that was shared with us all\""
      ]
     },
     "execution_count": 3,
     "metadata": {},
     "output_type": "execute_result"
    }
   ],
   "source": [
    "word_index = imdb.get_word_index()\n",
    "reverse_word_index = dict([(value, key) for (key, value) in word_index.items()])\n",
    "decoded_review = ' '.join([reverse_word_index.get(i-3,'?') for i in train_data[0]])\n",
    "decoded_review"
   ]
  },
  {
   "cell_type": "markdown",
   "metadata": {},
   "source": [
    "원-핫 벡터 방식으로 정수리스트를 이진 시퀀스로 바꾸기"
   ]
  },
  {
   "cell_type": "code",
   "execution_count": 4,
   "metadata": {},
   "outputs": [],
   "source": [
    "def vectorize_sequences(sequences, dimension=10000):\n",
    "    result = np.zeros((len(sequences), dimension))\n",
    "    for i, sequence in enumerate(sequences):\n",
    "        result[i, sequence] = 1\n",
    "    return result"
   ]
  },
  {
   "cell_type": "code",
   "execution_count": 5,
   "metadata": {},
   "outputs": [
    {
     "data": {
      "text/plain": [
       "array([[0., 1., 0., ..., 0., 0., 0.],\n",
       "       [0., 0., 1., ..., 0., 0., 0.],\n",
       "       [0., 0., 0., ..., 0., 0., 0.]])"
      ]
     },
     "execution_count": 5,
     "metadata": {},
     "output_type": "execute_result"
    }
   ],
   "source": [
    "# 예시\n",
    "x = [1, 2 ,3]\n",
    "x = vectorize_sequences(x)\n",
    "x"
   ]
  },
  {
   "cell_type": "code",
   "execution_count": 6,
   "metadata": {},
   "outputs": [],
   "source": [
    "x_train = vectorize_sequences(train_data)\n",
    "x_test = vectorize_sequences(test_data)\n",
    "y_train = vectorize_sequences(train_labels)\n",
    "y_test = vectorize_sequences(test_labels)"
   ]
  },
  {
   "cell_type": "code",
   "execution_count": 7,
   "metadata": {},
   "outputs": [],
   "source": [
    "y_train = np.asarray(train_labels).astype('float32')\n",
    "y_test = np.asarray(test_labels).astype('float32')"
   ]
  },
  {
   "cell_type": "markdown",
   "metadata": {},
   "source": [
    "모델 신경망 구성\n",
    "- 16개의 은닉 유닛을 가진 2개의 은닉 층 => relu\n",
    "- 리뷰 값의 예측으로 출력하는 세번째 층 => sigmoid"
   ]
  },
  {
   "cell_type": "code",
   "execution_count": 8,
   "metadata": {},
   "outputs": [],
   "source": [
    "from keras import models\n",
    "from keras import layers"
   ]
  },
  {
   "cell_type": "code",
   "execution_count": 9,
   "metadata": {},
   "outputs": [
    {
     "name": "stdout",
     "output_type": "stream",
     "text": [
      "WARNING:tensorflow:From C:\\Users\\82102\\Anaconda3\\envs\\bob\\lib\\site-packages\\tensorflow\\python\\framework\\op_def_library.py:263: colocate_with (from tensorflow.python.framework.ops) is deprecated and will be removed in a future version.\n",
      "Instructions for updating:\n",
      "Colocations handled automatically by placer.\n"
     ]
    }
   ],
   "source": [
    "model = models.Sequential()\n",
    "model.add(layers.Dense(16, activation='relu', input_shape=(10000,)))\n",
    "model.add(layers.Dense(16, activation='relu'))\n",
    "model.add(layers.Dense(1, activation='sigmoid'))"
   ]
  },
  {
   "cell_type": "markdown",
   "metadata": {},
   "source": [
    "손실 함수\n",
    "- 이진 분류 문제, 신경망의 출력이 확률 => binary_crossentropy or mean_squared_error 적합\n",
    "- 확률을 출력하는 모델 => 크로스엔트로피가 적합(확률 분포 간의 차이 측정)"
   ]
  },
  {
   "cell_type": "markdown",
   "metadata": {},
   "source": [
    "옵티마이져 : rmsprop\n",
    "\n",
    "손실함수 : binary_crossentropy"
   ]
  },
  {
   "cell_type": "code",
   "execution_count": 10,
   "metadata": {},
   "outputs": [],
   "source": [
    "model.compile(optimizer = 'rmsprop',\n",
    "             loss = 'binary_crossentropy',\n",
    "             metrics = ['accuracy'])"
   ]
  },
  {
   "cell_type": "markdown",
   "metadata": {},
   "source": [
    "모델의 정확도를 측정하기 위해 원본 훈련 데이터에서 10000개를 검증 세트로 만든다"
   ]
  },
  {
   "cell_type": "code",
   "execution_count": 11,
   "metadata": {},
   "outputs": [],
   "source": [
    "x_val = x_train[:10000]\n",
    "partial_x_train = x_train[10000:]\n",
    "y_val = y_train[:10000]\n",
    "partial_y_train = y_train[10000:]"
   ]
  },
  {
   "cell_type": "markdown",
   "metadata": {},
   "source": [
    "모델 훈련\n",
    "- 512개 샘플씩 미니 배치를 만들어 20번의 epoch동안 훈련"
   ]
  },
  {
   "cell_type": "code",
   "execution_count": 12,
   "metadata": {},
   "outputs": [
    {
     "name": "stdout",
     "output_type": "stream",
     "text": [
      "WARNING:tensorflow:From C:\\Users\\82102\\Anaconda3\\envs\\bob\\lib\\site-packages\\tensorflow\\python\\ops\\math_ops.py:3066: to_int32 (from tensorflow.python.ops.math_ops) is deprecated and will be removed in a future version.\n",
      "Instructions for updating:\n",
      "Use tf.cast instead.\n",
      "Train on 15000 samples, validate on 10000 samples\n",
      "Epoch 1/20\n",
      "15000/15000 [==============================] - 5s 308us/step - loss: 0.5090 - acc: 0.7824 - val_loss: 0.3803 - val_acc: 0.8682\n",
      "Epoch 2/20\n",
      "15000/15000 [==============================] - 3s 233us/step - loss: 0.3007 - acc: 0.9047 - val_loss: 0.3005 - val_acc: 0.8902\n",
      "Epoch 3/20\n",
      "15000/15000 [==============================] - 3s 216us/step - loss: 0.2180 - acc: 0.9284 - val_loss: 0.3088 - val_acc: 0.8715\n",
      "Epoch 4/20\n",
      "15000/15000 [==============================] - 3s 210us/step - loss: 0.1751 - acc: 0.9435 - val_loss: 0.2839 - val_acc: 0.8836\n",
      "Epoch 5/20\n",
      "15000/15000 [==============================] - 3s 222us/step - loss: 0.1428 - acc: 0.9544 - val_loss: 0.2848 - val_acc: 0.8864\n",
      "Epoch 6/20\n",
      "15000/15000 [==============================] - 3s 203us/step - loss: 0.1151 - acc: 0.9651 - val_loss: 0.3154 - val_acc: 0.8775\n",
      "Epoch 7/20\n",
      "15000/15000 [==============================] - 3s 211us/step - loss: 0.0980 - acc: 0.9705 - val_loss: 0.3127 - val_acc: 0.8847\n",
      "Epoch 8/20\n",
      "15000/15000 [==============================] - 3s 228us/step - loss: 0.0808 - acc: 0.9763 - val_loss: 0.3855 - val_acc: 0.8653\n",
      "Epoch 9/20\n",
      "15000/15000 [==============================] - 3s 227us/step - loss: 0.0662 - acc: 0.9820 - val_loss: 0.3631 - val_acc: 0.8783\n",
      "Epoch 10/20\n",
      "15000/15000 [==============================] - 3s 219us/step - loss: 0.0565 - acc: 0.9850 - val_loss: 0.3840 - val_acc: 0.8795\n",
      "Epoch 11/20\n",
      "15000/15000 [==============================] - 3s 218us/step - loss: 0.0432 - acc: 0.9904 - val_loss: 0.4140 - val_acc: 0.8786\n",
      "Epoch 12/20\n",
      "15000/15000 [==============================] - 3s 213us/step - loss: 0.0378 - acc: 0.9922 - val_loss: 0.4571 - val_acc: 0.8683\n",
      "Epoch 13/20\n",
      "15000/15000 [==============================] - 3s 215us/step - loss: 0.0300 - acc: 0.9928 - val_loss: 0.4707 - val_acc: 0.8735\n",
      "Epoch 14/20\n",
      "15000/15000 [==============================] - 3s 220us/step - loss: 0.0246 - acc: 0.9943 - val_loss: 0.5040 - val_acc: 0.8725\n",
      "Epoch 15/20\n",
      "15000/15000 [==============================] - 3s 223us/step - loss: 0.0183 - acc: 0.9975 - val_loss: 0.5326 - val_acc: 0.8711\n",
      "Epoch 16/20\n",
      "15000/15000 [==============================] - 3s 224us/step - loss: 0.0181 - acc: 0.9959 - val_loss: 0.5649 - val_acc: 0.8700\n",
      "Epoch 17/20\n",
      "15000/15000 [==============================] - 3s 223us/step - loss: 0.0104 - acc: 0.9993 - val_loss: 0.6074 - val_acc: 0.8660\n",
      "Epoch 18/20\n",
      "15000/15000 [==============================] - 3s 222us/step - loss: 0.0133 - acc: 0.9971 - val_loss: 0.6343 - val_acc: 0.8673\n",
      "Epoch 19/20\n",
      "15000/15000 [==============================] - 3s 221us/step - loss: 0.0067 - acc: 0.9995 - val_loss: 0.7207 - val_acc: 0.8577\n",
      "Epoch 20/20\n",
      "15000/15000 [==============================] - 3s 218us/step - loss: 0.0047 - acc: 0.9998 - val_loss: 0.6938 - val_acc: 0.8665\n"
     ]
    }
   ],
   "source": [
    "history = model.fit(partial_x_train,\n",
    "                   partial_y_train,\n",
    "                   epochs=20,\n",
    "                   batch_size = 512,\n",
    "                   validation_data = (x_val, y_val))"
   ]
  },
  {
   "cell_type": "markdown",
   "metadata": {},
   "source": [
    "훈련과 검증 손실 그리기"
   ]
  },
  {
   "cell_type": "code",
   "execution_count": 13,
   "metadata": {},
   "outputs": [
    {
     "data": {
      "text/plain": [
       "<Figure size 640x480 with 1 Axes>"
      ]
     },
     "metadata": {},
     "output_type": "display_data"
    }
   ],
   "source": [
    "import matplotlib.pyplot as plt\n",
    "history_dict = history.history\n",
    "loss = history_dict['loss']\n",
    "val_loss = history_dict['val_loss']\n",
    "\n",
    "epochs = range(1, len(loss)+1)\n",
    "\n",
    "plt.plot(epochs, loss, 'bo', label = 'Training loss')\n",
    "plt.plot(epochs, val_loss, 'b', label = 'Validation loss')\n",
    "plt.title('Training and Validation loss')\n",
    "plt.xlabel('Epochs')\n",
    "plt.ylabel('Loss')\n",
    "plt.legend()\n",
    "\n",
    "plt.show()"
   ]
  },
  {
   "cell_type": "code",
   "execution_count": 14,
   "metadata": {},
   "outputs": [
    {
     "data": {
      "image/png": "[encoded data removed]",
      "text/plain": [
       "<Figure size 432x288 with 1 Axes>"
      ]
     },
     "metadata": {
      "needs_background": "light"
     },
     "output_type": "display_data"
    }
   ],
   "source": [
    "plt.clf()\n",
    "acc = history_dict['acc']\n",
    "val_acc = history_dict['val_acc']\n",
    "\n",
    "plt.plot(epochs, acc, 'ro', label = 'Trainig acc')\n",
    "plt.plot(epochs, val_acc, 'b', label = 'Validation acc')\n",
    "plt.title('Training and validation accuracy')\n",
    "plt.xlabel('Epochs')\n",
    "plt.ylabel('Accuracy')\n",
    "plt.legend()\n",
    "plt.show()\n"
   ]
  },
  {
   "cell_type": "code",
   "execution_count": 15,
   "metadata": {},
   "outputs": [],
   "source": [
    "model = models.Sequential()\n",
    "model.add(layers.Dense(16, activation='relu', input_shape=(10000,)))\n",
    "model.add(layers.Dense(16, activation='relu'))\n",
    "model.add(layers.Dense(1, activation='sigmoid'))\n",
    "\n",
    "model.compile(optimizer='rmsprop',\n",
    "             loss='binary_crossentropy',\n",
    "             metrics = ['accuracy'])"
   ]
  },
  {
   "cell_type": "code",
   "execution_count": 16,
   "metadata": {},
   "outputs": [
    {
     "name": "stdout",
     "output_type": "stream",
     "text": [
      "Epoch 1/4\n",
      "25000/25000 [==============================] - 4s 150us/step - loss: 0.4748 - acc: 0.8214\n",
      "Epoch 2/4\n",
      "25000/25000 [==============================] - 3s 137us/step - loss: 0.2650 - acc: 0.9095\n",
      "Epoch 3/4\n",
      "25000/25000 [==============================] - 4s 140us/step - loss: 0.1982 - acc: 0.9298\n",
      "Epoch 4/4\n",
      "25000/25000 [==============================] - 3s 138us/step - loss: 0.1675 - acc: 0.9403\n",
      "25000/25000 [==============================] - 6s 234us/step\n"
     ]
    }
   ],
   "source": [
    "model.fit(x_train, y_train, epochs=4, batch_size = 512)\n",
    "results = model.evaluate(x_test, y_test)"
   ]
  },
  {
   "cell_type": "code",
   "execution_count": 17,
   "metadata": {},
   "outputs": [
    {
     "data": {
      "text/plain": [
       "[0.3207543730306625, 0.87368]"
      ]
     },
     "execution_count": 17,
     "metadata": {},
     "output_type": "execute_result"
    }
   ],
   "source": [
    "results"
   ]
  },
  {
   "cell_type": "code",
   "execution_count": 18,
   "metadata": {},
   "outputs": [
    {
     "data": {
      "text/plain": [
       "array([[0.1409764 ],\n",
       "       [0.999698  ],\n",
       "       [0.31536967],\n",
       "       ...,\n",
       "       [0.07365006],\n",
       "       [0.04483104],\n",
       "       [0.4753972 ]], dtype=float32)"
      ]
     },
     "execution_count": 18,
     "metadata": {},
     "output_type": "execute_result"
    }
   ],
   "source": [
    "model.predict(x_test)"
   ]
  },
  {
   "cell_type": "code",
   "execution_count": null,
   "metadata": {},
   "outputs": [],
   "source": []
  }
 ],
 "metadata": {
  "kernelspec": {
   "display_name": "Python 3",
   "language": "python",
   "name": "python3"
  },
  "language_info": {
   "codemirror_mode": {
    "name": "ipython",
    "version": 3
   },
   "file_extension": ".py",
   "mimetype": "text/x-python",
   "name": "python",
   "nbconvert_exporter": "python",
   "pygments_lexer": "ipython3",
   "version": "3.7.3"
  }
 },
 "nbformat": 4,
 "nbformat_minor": 2
}
